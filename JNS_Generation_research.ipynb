{
 "cells": [
  {
   "cell_type": "code",
   "execution_count": 1,
   "id": "6b824829-44a5-4042-94c9-a7bb3b9ad694",
   "metadata": {},
   "outputs": [],
   "source": [
    "import matplotlib.pyplot as plt\n",
    "import numpy as np\n",
    "import pandas as pd"
   ]
  },
  {
   "cell_type": "code",
   "execution_count": 2,
   "id": "287c8c5e-88e5-4845-a2d3-7f69d7eff672",
   "metadata": {},
   "outputs": [
    {
     "data": {
      "text/html": [
       "<div>\n",
       "<style scoped>\n",
       "    .dataframe tbody tr th:only-of-type {\n",
       "        vertical-align: middle;\n",
       "    }\n",
       "\n",
       "    .dataframe tbody tr th {\n",
       "        vertical-align: top;\n",
       "    }\n",
       "\n",
       "    .dataframe thead th {\n",
       "        text-align: right;\n",
       "    }\n",
       "</style>\n",
       "<table border=\"1\" class=\"dataframe\">\n",
       "  <thead>\n",
       "    <tr style=\"text-align: right;\">\n",
       "      <th></th>\n",
       "      <th>Date</th>\n",
       "      <th>Assets</th>\n",
       "      <th>Nonfinancial assets</th>\n",
       "      <th>Real estate</th>\n",
       "      <th>Consumer durables</th>\n",
       "      <th>Financial assets</th>\n",
       "      <th>Deposits</th>\n",
       "      <th>Money market fund shares</th>\n",
       "      <th>Debt securities</th>\n",
       "      <th>U.S. government and municipal securities</th>\n",
       "      <th>...</th>\n",
       "      <th>Miscellaneous assets</th>\n",
       "      <th>Liabilities</th>\n",
       "      <th>Loans (Liabilities)</th>\n",
       "      <th>Home mortgages</th>\n",
       "      <th>Consumer credit</th>\n",
       "      <th>Depository institutions loans n.e.c.</th>\n",
       "      <th>Other loans and advances (Liabilities)</th>\n",
       "      <th>Deferred and unpaid life insurance premiums</th>\n",
       "      <th>Net worth</th>\n",
       "      <th>Household count</th>\n",
       "    </tr>\n",
       "    <tr>\n",
       "      <th>Category</th>\n",
       "      <th></th>\n",
       "      <th></th>\n",
       "      <th></th>\n",
       "      <th></th>\n",
       "      <th></th>\n",
       "      <th></th>\n",
       "      <th></th>\n",
       "      <th></th>\n",
       "      <th></th>\n",
       "      <th></th>\n",
       "      <th></th>\n",
       "      <th></th>\n",
       "      <th></th>\n",
       "      <th></th>\n",
       "      <th></th>\n",
       "      <th></th>\n",
       "      <th></th>\n",
       "      <th></th>\n",
       "      <th></th>\n",
       "      <th></th>\n",
       "      <th></th>\n",
       "    </tr>\n",
       "  </thead>\n",
       "  <tbody>\n",
       "    <tr>\n",
       "      <th>Silent</th>\n",
       "      <td>1989:Q3</td>\n",
       "      <td>17649120</td>\n",
       "      <td>5648793</td>\n",
       "      <td>4588120</td>\n",
       "      <td>1060674</td>\n",
       "      <td>12000326</td>\n",
       "      <td>2433812</td>\n",
       "      <td>309876</td>\n",
       "      <td>893002</td>\n",
       "      <td>775331</td>\n",
       "      <td>...</td>\n",
       "      <td>139110</td>\n",
       "      <td>1267424</td>\n",
       "      <td>1257740</td>\n",
       "      <td>831951</td>\n",
       "      <td>308981</td>\n",
       "      <td>2354</td>\n",
       "      <td>114454</td>\n",
       "      <td>9684</td>\n",
       "      <td>16381696</td>\n",
       "      <td>48553376</td>\n",
       "    </tr>\n",
       "    <tr>\n",
       "      <th>BabyBoom</th>\n",
       "      <td>1989:Q3</td>\n",
       "      <td>5808847</td>\n",
       "      <td>3051118</td>\n",
       "      <td>2260930</td>\n",
       "      <td>790188</td>\n",
       "      <td>2757729</td>\n",
       "      <td>510502</td>\n",
       "      <td>52393</td>\n",
       "      <td>171564</td>\n",
       "      <td>129871</td>\n",
       "      <td>...</td>\n",
       "      <td>85216</td>\n",
       "      <td>1831588</td>\n",
       "      <td>1825424</td>\n",
       "      <td>1355260</td>\n",
       "      <td>445761</td>\n",
       "      <td>2171</td>\n",
       "      <td>22233</td>\n",
       "      <td>6164</td>\n",
       "      <td>3977259</td>\n",
       "      <td>39289625</td>\n",
       "    </tr>\n",
       "    <tr>\n",
       "      <th>GenX</th>\n",
       "      <td>1989:Q3</td>\n",
       "      <td>131077</td>\n",
       "      <td>89437</td>\n",
       "      <td>44119</td>\n",
       "      <td>45318</td>\n",
       "      <td>41640</td>\n",
       "      <td>12634</td>\n",
       "      <td>374</td>\n",
       "      <td>4954</td>\n",
       "      <td>4644</td>\n",
       "      <td>...</td>\n",
       "      <td>3023</td>\n",
       "      <td>53761</td>\n",
       "      <td>53633</td>\n",
       "      <td>23943</td>\n",
       "      <td>29466</td>\n",
       "      <td>7</td>\n",
       "      <td>217</td>\n",
       "      <td>128</td>\n",
       "      <td>77316</td>\n",
       "      <td>5177100</td>\n",
       "    </tr>\n",
       "    <tr>\n",
       "      <th>Millennial</th>\n",
       "      <td>1989:Q3</td>\n",
       "      <td>0</td>\n",
       "      <td>0</td>\n",
       "      <td>0</td>\n",
       "      <td>0</td>\n",
       "      <td>0</td>\n",
       "      <td>0</td>\n",
       "      <td>0</td>\n",
       "      <td>0</td>\n",
       "      <td>0</td>\n",
       "      <td>...</td>\n",
       "      <td>0</td>\n",
       "      <td>0</td>\n",
       "      <td>0</td>\n",
       "      <td>0</td>\n",
       "      <td>0</td>\n",
       "      <td>0</td>\n",
       "      <td>0</td>\n",
       "      <td>0</td>\n",
       "      <td>0</td>\n",
       "      <td>0</td>\n",
       "    </tr>\n",
       "    <tr>\n",
       "      <th>Silent</th>\n",
       "      <td>1989:Q4</td>\n",
       "      <td>17908857</td>\n",
       "      <td>5722025</td>\n",
       "      <td>4654123</td>\n",
       "      <td>1067902</td>\n",
       "      <td>12186832</td>\n",
       "      <td>2443224</td>\n",
       "      <td>315117</td>\n",
       "      <td>901378</td>\n",
       "      <td>778124</td>\n",
       "      <td>...</td>\n",
       "      <td>141439</td>\n",
       "      <td>1290657</td>\n",
       "      <td>1280630</td>\n",
       "      <td>847741</td>\n",
       "      <td>315406</td>\n",
       "      <td>2299</td>\n",
       "      <td>115185</td>\n",
       "      <td>10027</td>\n",
       "      <td>16618200</td>\n",
       "      <td>48581895</td>\n",
       "    </tr>\n",
       "  </tbody>\n",
       "</table>\n",
       "<p>5 rows × 30 columns</p>\n",
       "</div>"
      ],
      "text/plain": [
       "               Date    Assets  Nonfinancial assets  Real estate  \\\n",
       "Category                                                          \n",
       "Silent      1989:Q3  17649120              5648793      4588120   \n",
       "BabyBoom    1989:Q3   5808847              3051118      2260930   \n",
       "GenX        1989:Q3    131077                89437        44119   \n",
       "Millennial  1989:Q3         0                    0            0   \n",
       "Silent      1989:Q4  17908857              5722025      4654123   \n",
       "\n",
       "            Consumer durables  Financial assets  Deposits  \\\n",
       "Category                                                    \n",
       "Silent                1060674          12000326   2433812   \n",
       "BabyBoom               790188           2757729    510502   \n",
       "GenX                    45318             41640     12634   \n",
       "Millennial                  0                 0         0   \n",
       "Silent                1067902          12186832   2443224   \n",
       "\n",
       "            Money market fund shares  Debt securities  \\\n",
       "Category                                                \n",
       "Silent                        309876           893002   \n",
       "BabyBoom                       52393           171564   \n",
       "GenX                             374             4954   \n",
       "Millennial                         0                0   \n",
       "Silent                        315117           901378   \n",
       "\n",
       "            U.S. government and municipal securities  ...  \\\n",
       "Category                                              ...   \n",
       "Silent                                        775331  ...   \n",
       "BabyBoom                                      129871  ...   \n",
       "GenX                                            4644  ...   \n",
       "Millennial                                         0  ...   \n",
       "Silent                                        778124  ...   \n",
       "\n",
       "            Miscellaneous assets  Liabilities  Loans (Liabilities)  \\\n",
       "Category                                                             \n",
       "Silent                    139110      1267424              1257740   \n",
       "BabyBoom                   85216      1831588              1825424   \n",
       "GenX                        3023        53761                53633   \n",
       "Millennial                     0            0                    0   \n",
       "Silent                    141439      1290657              1280630   \n",
       "\n",
       "            Home mortgages  Consumer credit  \\\n",
       "Category                                      \n",
       "Silent              831951           308981   \n",
       "BabyBoom           1355260           445761   \n",
       "GenX                 23943            29466   \n",
       "Millennial               0                0   \n",
       "Silent              847741           315406   \n",
       "\n",
       "            Depository institutions loans n.e.c.  \\\n",
       "Category                                           \n",
       "Silent                                      2354   \n",
       "BabyBoom                                    2171   \n",
       "GenX                                           7   \n",
       "Millennial                                     0   \n",
       "Silent                                      2299   \n",
       "\n",
       "            Other loans and advances (Liabilities)  \\\n",
       "Category                                             \n",
       "Silent                                      114454   \n",
       "BabyBoom                                     22233   \n",
       "GenX                                           217   \n",
       "Millennial                                       0   \n",
       "Silent                                      115185   \n",
       "\n",
       "            Deferred and unpaid life insurance premiums  Net worth  \\\n",
       "Category                                                             \n",
       "Silent                                             9684   16381696   \n",
       "BabyBoom                                           6164    3977259   \n",
       "GenX                                                128      77316   \n",
       "Millennial                                            0          0   \n",
       "Silent                                            10027   16618200   \n",
       "\n",
       "            Household count  \n",
       "Category                     \n",
       "Silent             48553376  \n",
       "BabyBoom           39289625  \n",
       "GenX                5177100  \n",
       "Millennial                0  \n",
       "Silent             48581895  \n",
       "\n",
       "[5 rows x 30 columns]"
      ]
     },
     "execution_count": 2,
     "metadata": {},
     "output_type": "execute_result"
    }
   ],
   "source": [
    "Generation_df = pd.read_csv(\"./Resources-jns/generation_detail_levels.csv\")\n",
    "Generation_df.set_index('Category', inplace=True)\n",
    "Generation_df.head()"
   ]
  },
  {
   "cell_type": "code",
   "execution_count": 3,
   "id": "8305933d-4c86-4741-ae96-43a5661552b8",
   "metadata": {},
   "outputs": [
    {
     "data": {
      "text/plain": [
       "Date                                           object\n",
       "Assets                                          int64\n",
       "Nonfinancial assets                             int64\n",
       "Real estate                                     int64\n",
       "Consumer durables                               int64\n",
       "Financial assets                                int64\n",
       "Deposits                                        int64\n",
       "Money market fund shares                        int64\n",
       "Debt securities                                 int64\n",
       "U.S. government and municipal securities        int64\n",
       "Corporate and foreign bonds                     int64\n",
       "Loans (Assets)                                  int64\n",
       "Other loans and advances (Assets)               int64\n",
       "Mortgages                                       int64\n",
       "Corporate equities and mutual fund shares       int64\n",
       "Life insurance reserves                         int64\n",
       "Annuities                                       int64\n",
       "DC pension entitlements                         int64\n",
       "DB pension entitlements                         int64\n",
       "Equity in noncorporate business                 int64\n",
       "Miscellaneous assets                            int64\n",
       "Liabilities                                     int64\n",
       "Loans (Liabilities)                             int64\n",
       "Home mortgages                                  int64\n",
       "Consumer credit                                 int64\n",
       "Depository institutions loans n.e.c.            int64\n",
       "Other loans and advances (Liabilities)          int64\n",
       "Deferred and unpaid life insurance premiums     int64\n",
       "Net worth                                       int64\n",
       "Household count                                 int64\n",
       "dtype: object"
      ]
     },
     "execution_count": 3,
     "metadata": {},
     "output_type": "execute_result"
    }
   ],
   "source": [
    "Generation_df.dtypes"
   ]
  },
  {
   "cell_type": "code",
   "execution_count": 4,
   "id": "cde3ddf3-df49-4e06-9a3e-a09b3ff83e4a",
   "metadata": {},
   "outputs": [
    {
     "data": {
      "text/html": [
       "<div>\n",
       "<style scoped>\n",
       "    .dataframe tbody tr th:only-of-type {\n",
       "        vertical-align: middle;\n",
       "    }\n",
       "\n",
       "    .dataframe tbody tr th {\n",
       "        vertical-align: top;\n",
       "    }\n",
       "\n",
       "    .dataframe thead th {\n",
       "        text-align: right;\n",
       "    }\n",
       "</style>\n",
       "<table border=\"1\" class=\"dataframe\">\n",
       "  <thead>\n",
       "    <tr style=\"text-align: right;\">\n",
       "      <th></th>\n",
       "      <th>Date</th>\n",
       "      <th>Assets</th>\n",
       "      <th>Liabilities</th>\n",
       "      <th>Net worth</th>\n",
       "    </tr>\n",
       "    <tr>\n",
       "      <th>Category</th>\n",
       "      <th></th>\n",
       "      <th></th>\n",
       "      <th></th>\n",
       "      <th></th>\n",
       "    </tr>\n",
       "  </thead>\n",
       "  <tbody>\n",
       "    <tr>\n",
       "      <th>Silent</th>\n",
       "      <td>1989:Q3</td>\n",
       "      <td>17649120</td>\n",
       "      <td>1267424</td>\n",
       "      <td>16381696</td>\n",
       "    </tr>\n",
       "    <tr>\n",
       "      <th>BabyBoom</th>\n",
       "      <td>1989:Q3</td>\n",
       "      <td>5808847</td>\n",
       "      <td>1831588</td>\n",
       "      <td>3977259</td>\n",
       "    </tr>\n",
       "    <tr>\n",
       "      <th>GenX</th>\n",
       "      <td>1989:Q3</td>\n",
       "      <td>131077</td>\n",
       "      <td>53761</td>\n",
       "      <td>77316</td>\n",
       "    </tr>\n",
       "    <tr>\n",
       "      <th>Millennial</th>\n",
       "      <td>1989:Q3</td>\n",
       "      <td>0</td>\n",
       "      <td>0</td>\n",
       "      <td>0</td>\n",
       "    </tr>\n",
       "    <tr>\n",
       "      <th>Silent</th>\n",
       "      <td>1989:Q4</td>\n",
       "      <td>17908857</td>\n",
       "      <td>1290657</td>\n",
       "      <td>16618200</td>\n",
       "    </tr>\n",
       "  </tbody>\n",
       "</table>\n",
       "</div>"
      ],
      "text/plain": [
       "               Date    Assets  Liabilities  Net worth\n",
       "Category                                             \n",
       "Silent      1989:Q3  17649120      1267424   16381696\n",
       "BabyBoom    1989:Q3   5808847      1831588    3977259\n",
       "GenX        1989:Q3    131077        53761      77316\n",
       "Millennial  1989:Q3         0            0          0\n",
       "Silent      1989:Q4  17908857      1290657   16618200"
      ]
     },
     "execution_count": 4,
     "metadata": {},
     "output_type": "execute_result"
    }
   ],
   "source": [
    "Focus_df = Generation_df[['Date', 'Assets', 'Liabilities', 'Net worth']]\n",
    "Focus_df.head()"
   ]
  },
  {
   "cell_type": "code",
   "execution_count": 17,
   "id": "ed5324ce-2ec0-4a93-9bd3-761dd53049a2",
   "metadata": {},
   "outputs": [
    {
     "data": {
      "text/html": [
       "<div>\n",
       "<style scoped>\n",
       "    .dataframe tbody tr th:only-of-type {\n",
       "        vertical-align: middle;\n",
       "    }\n",
       "\n",
       "    .dataframe tbody tr th {\n",
       "        vertical-align: top;\n",
       "    }\n",
       "\n",
       "    .dataframe thead th {\n",
       "        text-align: right;\n",
       "    }\n",
       "</style>\n",
       "<table border=\"1\" class=\"dataframe\">\n",
       "  <thead>\n",
       "    <tr style=\"text-align: right;\">\n",
       "      <th></th>\n",
       "      <th>Date</th>\n",
       "      <th>Assets</th>\n",
       "      <th>Liabilities</th>\n",
       "      <th>Net worth</th>\n",
       "    </tr>\n",
       "    <tr>\n",
       "      <th>Category</th>\n",
       "      <th></th>\n",
       "      <th></th>\n",
       "      <th></th>\n",
       "      <th></th>\n",
       "    </tr>\n",
       "  </thead>\n",
       "  <tbody>\n",
       "    <tr>\n",
       "      <th>BabyBoom</th>\n",
       "      <td>1990:Q4</td>\n",
       "      <td>6305849</td>\n",
       "      <td>2022267</td>\n",
       "      <td>4283582</td>\n",
       "    </tr>\n",
       "  </tbody>\n",
       "</table>\n",
       "</div>"
      ],
      "text/plain": [
       "             Date   Assets  Liabilities  Net worth\n",
       "Category                                          \n",
       "BabyBoom  1990:Q4  6305849      2022267    4283582"
      ]
     },
     "execution_count": 17,
     "metadata": {},
     "output_type": "execute_result"
    }
   ],
   "source": [
    "BBThirtyfive_df = Focus_df.loc[(Focus_df['Date'] == '1990:Q4') & (Focus_df.index == 'BabyBoom')]\n",
    "BBThirtyfive_df"
   ]
  },
  {
   "cell_type": "code",
   "execution_count": 18,
   "id": "e82d8cb6-8eab-446d-a04d-9c5b40be3058",
   "metadata": {},
   "outputs": [
    {
     "data": {
      "text/plain": [
       "<Axes: title={'center': 'Boomers @ 35'}, xlabel='Category'>"
      ]
     },
     "execution_count": 18,
     "metadata": {},
     "output_type": "execute_result"
    },
    {
     "data": {
      "image/png": "[encoded data removed]",
      "text/plain": [
       "<Figure size 640x480 with 1 Axes>"
      ]
     },
     "metadata": {},
     "output_type": "display_data"
    }
   ],
   "source": [
    "BBThirtyfive_df.plot(kind='bar', title = 'Boomers @ 35')"
   ]
  },
  {
   "cell_type": "code",
   "execution_count": 20,
   "id": "84b92f8e-821b-4b25-a325-85ee2249ca30",
   "metadata": {},
   "outputs": [
    {
     "data": {
      "text/html": [
       "<div>\n",
       "<style scoped>\n",
       "    .dataframe tbody tr th:only-of-type {\n",
       "        vertical-align: middle;\n",
       "    }\n",
       "\n",
       "    .dataframe tbody tr th {\n",
       "        vertical-align: top;\n",
       "    }\n",
       "\n",
       "    .dataframe thead th {\n",
       "        text-align: right;\n",
       "    }\n",
       "</style>\n",
       "<table border=\"1\" class=\"dataframe\">\n",
       "  <thead>\n",
       "    <tr style=\"text-align: right;\">\n",
       "      <th></th>\n",
       "      <th>Date</th>\n",
       "      <th>Assets</th>\n",
       "      <th>Liabilities</th>\n",
       "      <th>Net worth</th>\n",
       "    </tr>\n",
       "    <tr>\n",
       "      <th>Category</th>\n",
       "      <th></th>\n",
       "      <th></th>\n",
       "      <th></th>\n",
       "      <th></th>\n",
       "    </tr>\n",
       "  </thead>\n",
       "  <tbody>\n",
       "    <tr>\n",
       "      <th>GenX</th>\n",
       "      <td>2007:Q4</td>\n",
       "      <td>10946310</td>\n",
       "      <td>4899785</td>\n",
       "      <td>6046525</td>\n",
       "    </tr>\n",
       "  </tbody>\n",
       "</table>\n",
       "</div>"
      ],
      "text/plain": [
       "             Date    Assets  Liabilities  Net worth\n",
       "Category                                           \n",
       "GenX      2007:Q4  10946310      4899785    6046525"
      ]
     },
     "execution_count": 20,
     "metadata": {},
     "output_type": "execute_result"
    }
   ],
   "source": [
    "GenXThirtyfive_df= Focus_df.loc[(Focus_df['Date'] == '2007:Q4') & (Focus_df.index == 'GenX')]\n",
    "GenXThirtyfive_df"
   ]
  },
  {
   "cell_type": "code",
   "execution_count": 21,
   "id": "ff42afd9-8d48-4c1e-a01f-ff503e2fc628",
   "metadata": {},
   "outputs": [
    {
     "data": {
      "text/plain": [
       "<Axes: title={'center': 'GenX @ 35'}, xlabel='Category'>"
      ]
     },
     "execution_count": 21,
     "metadata": {},
     "output_type": "execute_result"
    },
    {
     "data": {
      "image/png": "[encoded data removed]",
      "text/plain": [
       "<Figure size 640x480 with 1 Axes>"
      ]
     },
     "metadata": {},
     "output_type": "display_data"
    }
   ],
   "source": [
    "GenXThirtyfive_df.plot(kind='bar', title = 'GenX @ 35')"
   ]
  },
  {
   "cell_type": "code",
   "execution_count": 9,
   "id": "91354961-8896-469b-a048-f852b43fb7e0",
   "metadata": {},
   "outputs": [
    {
     "data": {
      "text/html": [
       "<div>\n",
       "<style scoped>\n",
       "    .dataframe tbody tr th:only-of-type {\n",
       "        vertical-align: middle;\n",
       "    }\n",
       "\n",
       "    .dataframe tbody tr th {\n",
       "        vertical-align: top;\n",
       "    }\n",
       "\n",
       "    .dataframe thead th {\n",
       "        text-align: right;\n",
       "    }\n",
       "</style>\n",
       "<table border=\"1\" class=\"dataframe\">\n",
       "  <thead>\n",
       "    <tr style=\"text-align: right;\">\n",
       "      <th></th>\n",
       "      <th>Date</th>\n",
       "      <th>Assets</th>\n",
       "      <th>Liabilities</th>\n",
       "      <th>Net worth</th>\n",
       "    </tr>\n",
       "    <tr>\n",
       "      <th>Category</th>\n",
       "      <th></th>\n",
       "      <th></th>\n",
       "      <th></th>\n",
       "      <th></th>\n",
       "    </tr>\n",
       "  </thead>\n",
       "  <tbody>\n",
       "    <tr>\n",
       "      <th>Millennial</th>\n",
       "      <td>2023:Q4</td>\n",
       "      <td>20586075</td>\n",
       "      <td>7087918</td>\n",
       "      <td>13498158</td>\n",
       "    </tr>\n",
       "  </tbody>\n",
       "</table>\n",
       "</div>"
      ],
      "text/plain": [
       "               Date    Assets  Liabilities  Net worth\n",
       "Category                                             \n",
       "Millennial  2023:Q4  20586075      7087918   13498158"
      ]
     },
     "execution_count": 9,
     "metadata": {},
     "output_type": "execute_result"
    }
   ],
   "source": [
    "MilThirtyfive_df= Focus_df.loc[(Focus_df['Date'] == '2023:Q4') & (Focus_df.index == 'Millennial')]\n",
    "MilThirtyfive_df"
   ]
  },
  {
   "cell_type": "code",
   "execution_count": 10,
   "id": "638f739b-c8f1-492a-963d-cece0769fd6b",
   "metadata": {},
   "outputs": [
    {
     "data": {
      "text/plain": [
       "<Axes: title={'center': 'Millennials @ 35'}, xlabel='Category'>"
      ]
     },
     "execution_count": 10,
     "metadata": {},
     "output_type": "execute_result"
    },
    {
     "data": {
      "image/png": "[encoded data removed]",
      "text/plain": [
       "<Figure size 640x480 with 1 Axes>"
      ]
     },
     "metadata": {},
     "output_type": "display_data"
    }
   ],
   "source": [
    "MilThirtyfive_df.plot(kind='bar', title = 'Millennials @ 35')"
   ]
  },
  {
   "cell_type": "code",
   "execution_count": 13,
   "id": "c780ba9d-3f3a-4ba9-982c-4f8dd587e423",
   "metadata": {},
   "outputs": [
    {
     "data": {
      "text/html": [
       "<div>\n",
       "<style scoped>\n",
       "    .dataframe tbody tr th:only-of-type {\n",
       "        vertical-align: middle;\n",
       "    }\n",
       "\n",
       "    .dataframe tbody tr th {\n",
       "        vertical-align: top;\n",
       "    }\n",
       "\n",
       "    .dataframe thead th {\n",
       "        text-align: right;\n",
       "    }\n",
       "</style>\n",
       "<table border=\"1\" class=\"dataframe\">\n",
       "  <thead>\n",
       "    <tr style=\"text-align: right;\">\n",
       "      <th></th>\n",
       "      <th>Date</th>\n",
       "      <th>Assets</th>\n",
       "      <th>Liabilities</th>\n",
       "      <th>Net worth</th>\n",
       "    </tr>\n",
       "    <tr>\n",
       "      <th>Category</th>\n",
       "      <th></th>\n",
       "      <th></th>\n",
       "      <th></th>\n",
       "      <th></th>\n",
       "    </tr>\n",
       "  </thead>\n",
       "  <tbody>\n",
       "    <tr>\n",
       "      <th>BabyBoom</th>\n",
       "      <td>1990:Q4</td>\n",
       "      <td>6305849</td>\n",
       "      <td>2022267</td>\n",
       "      <td>4283582</td>\n",
       "    </tr>\n",
       "    <tr>\n",
       "      <th>GenX</th>\n",
       "      <td>2007:Q4</td>\n",
       "      <td>10946310</td>\n",
       "      <td>4899785</td>\n",
       "      <td>6046525</td>\n",
       "    </tr>\n",
       "    <tr>\n",
       "      <th>Millennial</th>\n",
       "      <td>2023:Q4</td>\n",
       "      <td>20586075</td>\n",
       "      <td>7087918</td>\n",
       "      <td>13498158</td>\n",
       "    </tr>\n",
       "  </tbody>\n",
       "</table>\n",
       "</div>"
      ],
      "text/plain": [
       "               Date    Assets  Liabilities  Net worth\n",
       "Category                                             \n",
       "BabyBoom    1990:Q4   6305849      2022267    4283582\n",
       "GenX        2007:Q4  10946310      4899785    6046525\n",
       "Millennial  2023:Q4  20586075      7087918   13498158"
      ]
     },
     "execution_count": 13,
     "metadata": {},
     "output_type": "execute_result"
    }
   ],
   "source": [
    "\n",
    "BB_filter = Focus_df.loc[(Focus_df['Date'] == '1990:Q4') & (Focus_df.index == 'BabyBoom')]\n",
    "GenX_filter = Focus_df.loc[(Focus_df['Date'] == '2007:Q4') & (Focus_df.index == 'GenX')]\n",
    "Mil_filter = Focus_df.loc[(Focus_df['Date'] == '2023:Q4') & (Focus_df.index == 'Millennial')]\n",
    "\n",
    "filter_list = [BB_filter, GenX_filter, Mil_filter]\n",
    "filtered_df = pd.concat(filter_list)\n",
    "filtered_df"
   ]
  },
  {
   "cell_type": "code",
   "execution_count": 15,
   "id": "ab48b6e4-f3bc-4281-a0db-829bd148d6ff",
   "metadata": {},
   "outputs": [
    {
     "data": {
      "text/plain": [
       "<Axes: xlabel='Category'>"
      ]
     },
     "execution_count": 15,
     "metadata": {},
     "output_type": "execute_result"
    },
    {
     "data": {
      "image/png": "[encoded data removed]",
      "text/plain": [
       "<Figure size 640x480 with 1 Axes>"
      ]
     },
     "metadata": {},
     "output_type": "display_data"
    }
   ],
   "source": [
    "filtered_df.plot(kind='bar')"
   ]
  },
  {
   "cell_type": "code",
   "execution_count": null,
   "id": "c61900ef-c54e-4c78-af19-8ba33cf74c32",
   "metadata": {},
   "outputs": [],
   "source": []
  }
 ],
 "metadata": {
  "kernelspec": {
   "display_name": "Python 3 (ipykernel)",
   "language": "python",
   "name": "python3"
  },
  "language_info": {
   "codemirror_mode": {
    "name": "ipython",
    "version": 3
   },
   "file_extension": ".py",
   "mimetype": "text/x-python",
   "name": "python",
   "nbconvert_exporter": "python",
   "pygments_lexer": "ipython3",
   "version": "3.10.13"
  }
 },
 "nbformat": 4,
 "nbformat_minor": 5
}
